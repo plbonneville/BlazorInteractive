{
 "cells": [
  {
   "cell_type": "code",
   "execution_count": 1,
   "metadata": {
    "dotnet_interactive": {
     "language": "pwsh"
    }
   },
   "outputs": [
    {
     "name": "stdout",
     "output_type": "stream",
     "text": [
      "MSBuild version 17.4.0+18d5aef85 for .NET\n",
      "  Determining projects to restore...\n",
      "  Restored /workspaces/BlazorInteractive/src/BlazorInteractive/BlazorInteractive.csproj (in 386 ms).\n",
      "  BlazorInteractive -> /workspaces/BlazorInteractive/src/BlazorInteractive/bin/Debug/net7.0/BlazorInteractive.dll\n",
      "\n",
      "Build succeeded.\n",
      "    0 Warning(s)\n",
      "    0 Error(s)\n",
      "\n",
      "Time Elapsed 00:00:03.18\n",
      "MSBuild version 17.4.0+18d5aef85 for .NET\n",
      "  Determining projects to restore...\n",
      "  Restored /workspaces/BlazorInteractive/src/BlazorInteractive/BlazorInteractive.csproj (in 408 ms).\n",
      "  BlazorInteractive -> /workspaces/BlazorInteractive/src/BlazorInteractive/bin/Debug/net7.0/BlazorInteractive.dll\n",
      "  Successfully created package '/workspaces/BlazorInteractive/src/BlazorInteractive/bin/Debug/BlazorInteractive.2022.12.27.42328.nupkg'.\n",
      "  Successfully created package '/workspaces/BlazorInteractive/src/BlazorInteractive/bin/Debug/BlazorInteractive.2022.12.27.42328.symbols.nupkg'.\n",
      "\n",
      "    Directory: /workspaces/BlazorInteractive/src/BlazorInteractive/bin/Debug\n",
      "\n",
      "\u001b[32;1mUnixMode   User             Group                 LastWriteTime           Size Name\u001b[0m\n",
      "\u001b[32;1m--------   ----             -----                 -------------           ---- ----\u001b[0m\n",
      "-rw-r--r-- vscode           vscode             12/27/2022 04:23          57554 \u001b[31;1mBlazorInteractive.20\u001b[0m\n",
      "                                                                               \u001b[31;1m22.12.27.42328.nupkg\u001b[0m\n",
      "-rw-r--r-- vscode           vscode             12/27/2022 04:23          72518 \u001b[31;1mBlazorInteractive.20\u001b[0m\n",
      "                                                                               \u001b[31;1m22.12.27.42328.symbo\u001b[0m\n",
      "                                                                               \u001b[31;1mls.nupkg\u001b[0m\n",
      "\n"
     ]
    }
   ],
   "source": [
    "# 0. Clean-up the bin and obj folders\n",
    "Get-ChildItem .. -Include bin,obj -Recurse | Remove-Item -Force -Recurse\n",
    "\n",
    "# 1. Build the project\n",
    "dotnet build ../src/BlazorInteractive/BlazorInteractive.csproj\n",
    "\n",
    "# Pack up the NuGet package. Note, you should increment the version because the previous one, once installed, will be in your NuGet cache\n",
    "$version = [System.DateTime]::Now.ToString(\"yyyy.MM.dd.HHmmss\")\n",
    "dotnet pack /p:PackageVersion=$version ../src/BlazorInteractive/BlazorInteractive.csproj\n",
    "\n",
    "# 3. Check that the package is there\n",
    "Get-ChildItem .. -Recurse *.nupkg"
   ]
  },
  {
   "cell_type": "code",
   "execution_count": 2,
   "metadata": {
    "dotnet_interactive": {
     "language": "csharp"
    }
   },
   "outputs": [
    {
     "data": {
      "text/html": [
       "<div><div><strong>Restore sources</strong><ul><li><span>/workspaces/BlazorInteractive/src/BlazorInteractive/bin/Debug</span></li></ul></div><div></div><div><strong>Installed Packages</strong><ul><li><span>BlazorInteractive, 2022.12.27.42328</span></li></ul></div></div>"
      ]
     },
     "metadata": {},
     "output_type": "display_data"
    },
    {
     "data": {
      "text/plain": [
       "Loading extensions from `/home/vscode/.nuget/packages/blazorinteractive/2022.12.27.42328/interactive-extensions/dotnet/BlazorInteractive.dll`"
      ]
     },
     "metadata": {},
     "output_type": "display_data"
    },
    {
     "data": {
      "text/html": [
       "<details>\r\n",
       "    <summary>Compile and render Razor components (.razor) in .NET Interactive Notebooks.</summary>\r\n",
       "    <p>This extension adds a new kernel that can render Blazor markdown.</p>\r\n",
       "\r\n",
       "    <pre>\r\n",
       "        <code>\r\n",
       "#!blazor\r\n",
       "<h1>Counter</h1>\r\n",
       "\r\n",
       "<p>\r\n",
       "    Current count: @currentCount\r\n",
       "</p>\r\n",
       "\r\n",
       "@code {\r\n",
       "  int currentCount = 0;\r\n",
       "}</code>\r\n",
       "    </pre>\r\n",
       "\r\n",
       "    <p>This extension also adds the compiled component as a type to the interactive workspace.</p>\r\n",
       "\r\n",
       "    <p>Options:</p>\r\n",
       "    <ul>\r\n",
       "    <li>-n, --name &nbsp;&nbsp;&nbsp;&nbsp;The Razor component's (.razor) type name. The default value is <code>__Main</code></li>\r\n",
       "    </ul>\r\n",
       "</details>"
      ]
     },
     "metadata": {},
     "output_type": "display_data"
    }
   ],
   "source": [
    "#i nuget:/workspaces/BlazorInteractive/src/BlazorInteractive/bin/Debug\n",
    "#r \"nuget:BlazorInteractive\""
   ]
  },
  {
   "cell_type": "code",
   "execution_count": 3,
   "metadata": {
    "dotnet_interactive": {
     "language": "csharp"
    }
   },
   "outputs": [
    {
     "data": {
      "text/html": [
       "<div id=\"blazorExtension4bd30777bba447719e1f58e5f80377ae\"><h1>Hello Alice</h1></div>"
      ]
     },
     "metadata": {},
     "output_type": "display_data"
    }
   ],
   "source": [
    "#!blazor\n",
    "<h1>Hello @name</h1>\n",
    "\n",
    "@code {\n",
    "    string name = \"Alice\";\n",
    "}"
   ]
  },
  {
   "cell_type": "code",
   "execution_count": 4,
   "metadata": {
    "dotnet_interactive": {
     "language": "csharp"
    }
   },
   "outputs": [
    {
     "data": {
      "text/html": [
       "<div id=\"blazorExtension5fe01f5293d84bf4b8d0dfb8ce0d6f2a\"><h1>Counter</h1>\n",
       "\n",
       "<p>\n",
       "    Current count: 0</p>\n",
       "\n",
       "<button class=\"btn btn-primary\" blazor:onclick=\"1\">Click me</button></div>"
      ]
     },
     "metadata": {},
     "output_type": "display_data"
    }
   ],
   "source": [
    "#!blazor --name Counter\n",
    "<h1>Counter</h1>\n",
    "\n",
    "<p>\n",
    "    Current count: @currentCount\n",
    "</p>\n",
    "\n",
    "<button class=\"btn btn-primary\" @onclick=\"IncrementCount\">Click me</button>\n",
    "\n",
    "@code {\n",
    "  public int currentCount = 0;\n",
    "\n",
    "  void IncrementCount()\n",
    "  {\n",
    "    currentCount++;\n",
    "  }\n",
    "}"
   ]
  },
  {
   "cell_type": "code",
   "execution_count": 5,
   "metadata": {
    "dotnet_interactive": {
     "language": "csharp"
    }
   },
   "outputs": [
    {
     "data": {
      "text/plain": [
       "Counter"
      ]
     },
     "metadata": {},
     "output_type": "display_data"
    }
   ],
   "source": [
    "var componentName = typeof(Counter).Name;\n",
    "componentName"
   ]
  }
 ],
 "metadata": {
  "kernelspec": {
   "display_name": ".NET (C#)",
   "language": "C#",
   "name": ".net-csharp"
  },
  "polyglot_notebook": {
   "kernelInfo": {
    "defaultKernelName": "csharp",
    "items": [
     {
      "aliases": [
       "c#",
       "C#"
      ],
      "languageName": "C#",
      "name": "csharp"
     },
     {
      "aliases": [],
      "name": ".NET"
     },
     {
      "aliases": [
       "f#",
       "F#"
      ],
      "languageName": "F#",
      "name": "fsharp"
     },
     {
      "aliases": [],
      "languageName": "HTML",
      "name": "html"
     },
     {
      "aliases": [],
      "languageName": "KQL",
      "name": "kql"
     },
     {
      "aliases": [],
      "languageName": "Mermaid",
      "name": "mermaid"
     },
     {
      "aliases": [
       "powershell"
      ],
      "languageName": "PowerShell",
      "name": "pwsh"
     },
     {
      "aliases": [],
      "languageName": "SQL",
      "name": "sql"
     },
     {
      "aliases": [],
      "name": "value"
     },
     {
      "aliases": [
       "frontend"
      ],
      "name": "vscode"
     },
     {
      "aliases": [],
      "languageName": null,
      "name": "blazor"
     }
    ]
   }
  }
 },
 "nbformat": 4,
 "nbformat_minor": 2
}
