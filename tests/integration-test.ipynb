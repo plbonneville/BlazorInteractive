{
 "cells": [
  {
   "cell_type": "code",
   "execution_count": null,
   "source": [
    "# 0. Clean-up the bin and obj folders\n",
    "get-childitem .. -Filter \"bin\" -recurse | foreach ($_) {remove-item $_.fullname -Force -recurse}\n",
    "get-childitem .. -Filter \"obj\" -recurse | foreach ($_) {remove-item $_.fullname -Force -recurse}\n",
    "\n",
    "# 1. Build the project\n",
    "dotnet build ../src/BlazorInteractive/BlazorInteractive.csproj\n",
    "\n",
    "# Pack up the NuGet package. Note, you should increment the version because the previous one, once installed, will be in your NuGet cache\n",
    "$version = [System.DateTime]::Now.ToString(\"yyyy.MM.dd.HHmmss\")\n",
    "dotnet pack /p:PackageVersion=$version ../src/BlazorInteractive/BlazorInteractive.csproj\n",
    "\n",
    "# 3. Check that the package is there\n",
    "Get-ChildItem .. -Recurse *.nupkg"
   ],
   "outputs": [
    {
     "data": {
      "text/plain": [
       "Microsoft (R) Build Engine version 16.8.3+39993bd9d for .NET\n"
      ]
     },
     "metadata": {},
     "output_type": "display_data"
    },
    {
     "data": {
      "text/plain": [
       "Copyright (C) Microsoft Corporation. All rights reserved.\n"
      ]
     },
     "metadata": {},
     "output_type": "display_data"
    },
    {
     "data": {
      "text/plain": [
       "\n"
      ]
     },
     "metadata": {},
     "output_type": "display_data"
    },
    {
     "data": {
      "text/plain": [
       "  Determining projects to restore...\n"
      ]
     },
     "metadata": {},
     "output_type": "display_data"
    },
    {
     "data": {
      "text/plain": [
       "  Restored /workspaces/BlazorInteractive/src/BlazorInteractive/BlazorInteractive.csproj (in 286 ms).\n"
      ]
     },
     "metadata": {},
     "output_type": "display_data"
    },
    {
     "data": {
      "text/plain": [
       "  BlazorInteractive -> /workspaces/BlazorInteractive/src/BlazorInteractive/bin/Debug/net5.0/BlazorInteractive.dll\n"
      ]
     },
     "metadata": {},
     "output_type": "display_data"
    },
    {
     "data": {
      "text/plain": [
       "\n"
      ]
     },
     "metadata": {},
     "output_type": "display_data"
    },
    {
     "data": {
      "text/plain": [
       "Build succeeded.\n"
      ]
     },
     "metadata": {},
     "output_type": "display_data"
    },
    {
     "data": {
      "text/plain": [
       "    0 Warning(s)\n"
      ]
     },
     "metadata": {},
     "output_type": "display_data"
    },
    {
     "data": {
      "text/plain": [
       "    0 Error(s)\n"
      ]
     },
     "metadata": {},
     "output_type": "display_data"
    },
    {
     "data": {
      "text/plain": [
       "\n"
      ]
     },
     "metadata": {},
     "output_type": "display_data"
    },
    {
     "data": {
      "text/plain": [
       "Time Elapsed 00:00:02.36\n"
      ]
     },
     "metadata": {},
     "output_type": "display_data"
    },
    {
     "data": {
      "text/plain": [
       "Microsoft (R) Build Engine version 16.8.3+39993bd9d for .NET\n"
      ]
     },
     "metadata": {},
     "output_type": "display_data"
    },
    {
     "data": {
      "text/plain": [
       "Copyright (C) Microsoft Corporation. All rights reserved.\n"
      ]
     },
     "metadata": {},
     "output_type": "display_data"
    },
    {
     "data": {
      "text/plain": [
       "\n"
      ]
     },
     "metadata": {},
     "output_type": "display_data"
    },
    {
     "data": {
      "text/plain": [
       "  Determining projects to restore...\n"
      ]
     },
     "metadata": {},
     "output_type": "display_data"
    },
    {
     "data": {
      "text/plain": [
       "  Restored /workspaces/BlazorInteractive/src/BlazorInteractive/BlazorInteractive.csproj (in 367 ms).\n"
      ]
     },
     "metadata": {},
     "output_type": "display_data"
    },
    {
     "data": {
      "text/plain": [
       "  BlazorInteractive -> /workspaces/BlazorInteractive/src/BlazorInteractive/bin/Debug/net5.0/BlazorInteractive.dll\n"
      ]
     },
     "metadata": {},
     "output_type": "display_data"
    },
    {
     "data": {
      "text/plain": [
       "  Successfully created package '/workspaces/BlazorInteractive/src/BlazorInteractive/bin/Debug/BlazorInteractive.2021.8.10.154707.nupkg'.\n"
      ]
     },
     "metadata": {},
     "output_type": "display_data"
    },
    {
     "data": {
      "text/plain": [
       "  Successfully created package '/workspaces/BlazorInteractive/src/BlazorInteractive/bin/Debug/BlazorInteractive.2021.8.10.154707.symbols.nupkg'.\n"
      ]
     },
     "metadata": {},
     "output_type": "display_data"
    },
    {
     "data": {
      "text/plain": [
       "\n"
      ]
     },
     "metadata": {},
     "output_type": "display_data"
    },
    {
     "data": {
      "text/plain": [
       "    Directory: /workspaces/BlazorInteractive/src/BlazorInteractive/bin/Debug\n"
      ]
     },
     "metadata": {},
     "output_type": "display_data"
    },
    {
     "data": {
      "text/plain": [
       "\n"
      ]
     },
     "metadata": {},
     "output_type": "display_data"
    },
    {
     "data": {
      "text/plain": [
       "Mode                 LastWriteTime         Length Name\n"
      ]
     },
     "metadata": {},
     "output_type": "display_data"
    },
    {
     "data": {
      "text/plain": [
       "----                 -------------         ------ ----\n"
      ]
     },
     "metadata": {},
     "output_type": "display_data"
    },
    {
     "data": {
      "text/plain": [
       "-----          08/10/2021    15:47          55134 BlazorInteractive.2021.8.10.154707.nupkg\n"
      ]
     },
     "metadata": {},
     "output_type": "display_data"
    },
    {
     "data": {
      "text/plain": [
       "-----          08/10/2021    15:47          68975 BlazorInteractive.2021.8.10.154707.symbols.nupkg\n"
      ]
     },
     "metadata": {},
     "output_type": "display_data"
    },
    {
     "data": {
      "text/plain": [
       "\n"
      ]
     },
     "metadata": {},
     "output_type": "display_data"
    }
   ],
   "metadata": {
    "dotnet_interactive": {
     "language": "pwsh"
    }
   }
  },
  {
   "cell_type": "code",
   "execution_count": null,
   "source": [
    "#i nuget:/workspaces/BlazorInteractive/src/BlazorInteractive/bin/Debug\n",
    "#r \"nuget:BlazorInteractive\""
   ],
   "outputs": [
    {
     "data": {
      "text/html": [
       "<div><div><strong>Restore sources</strong><ul><li><span>/workspaces/BlazorInteractive/src/BlazorInteractive/bin/Debug</span></li></ul></div><div><strong>Installed Packages</strong><ul><li><span>anglesharp, 0.16.0</span></li><li><span>anglesharp.css, 0.16.0</span></li><li><span>anglesharp.diffing, 0.16.0</span></li><li><span>anglesharp.wrappers, 2.0.0</span></li><li><span>BlazorInteractive, 2021.8.10.154707</span></li><li><span>bunit.core, 1.2.49</span></li><li><span>bunit.web, 1.2.49</span></li><li><span>humanizer.core, 2.2.0</span></li><li><span>messagepack, 2.1.152</span></li><li><span>messagepack.annotations, 2.1.152</span></li><li><span>microsoft.aspnetcore.authorization, 5.0.8</span></li><li><span>microsoft.aspnetcore.components, 5.0.8</span></li><li><span>microsoft.aspnetcore.components.authorization, 5.0.0</span></li><li><span>microsoft.aspnetcore.components.forms, 5.0.8</span></li><li><span>microsoft.aspnetcore.components.web, 5.0.8</span></li><li><span>microsoft.aspnetcore.components.webassembly, 5.0.8</span></li><li><span>microsoft.aspnetcore.html.abstractions, 2.2.0</span></li><li><span>microsoft.aspnetcore.metadata, 5.0.8</span></li><li><span>microsoft.aspnetcore.razor.language, 5.0.8</span></li><li><span>microsoft.bcl.asyncinterfaces, 5.0.0</span></li><li><span>microsoft.codeanalysis.analyzerutilities, 3.3.0</span></li><li><span>microsoft.codeanalysis.common, 3.10.0</span></li><li><span>microsoft.codeanalysis.csharp, 3.10.0</span></li><li><span>microsoft.codeanalysis.csharp.features, 3.10.0</span></li><li><span>microsoft.codeanalysis.csharp.scripting, 3.10.0</span></li><li><span>microsoft.codeanalysis.csharp.workspaces, 3.10.0</span></li><li><span>microsoft.codeanalysis.features, 3.10.0</span></li><li><span>microsoft.codeanalysis.razor, 5.0.8</span></li><li><span>microsoft.codeanalysis.scripting.common, 3.10.0</span></li><li><span>microsoft.codeanalysis.visualbasic, 3.10.0</span></li><li><span>microsoft.codeanalysis.visualbasic.workspaces, 3.10.0</span></li><li><span>microsoft.codeanalysis.workspaces.common, 3.10.0</span></li><li><span>microsoft.diasymreader, 1.3.0</span></li><li><span>microsoft.dotnet.interactive, 1.0.0-beta.21404.3</span></li><li><span>microsoft.dotnet.interactive.csharp, 1.0.0-beta.21404.3</span></li><li><span>microsoft.dotnet.interactive.formatting, 1.0.0-beta.21404.3</span></li><li><span>microsoft.dotnet.interactive.packagemanagement, 1.0.0-beta.21404.3</span></li><li><span>microsoft.extensions.configuration, 5.0.0</span></li><li><span>microsoft.extensions.configuration.abstractions, 5.0.0</span></li><li><span>microsoft.extensions.configuration.binder, 5.0.0</span></li><li><span>microsoft.extensions.configuration.fileextensions, 5.0.0</span></li><li><span>microsoft.extensions.configuration.json, 5.0.0</span></li><li><span>microsoft.extensions.dependencyinjection, 5.0.2</span></li><li><span>microsoft.extensions.dependencyinjection.abstractions, 5.0.0</span></li><li><span>microsoft.extensions.fileproviders.abstractions, 5.0.0</span></li><li><span>microsoft.extensions.fileproviders.physical, 5.0.0</span></li><li><span>microsoft.extensions.filesystemglobbing, 5.0.0</span></li><li><span>microsoft.extensions.localization.abstractions, 5.0.0</span></li><li><span>microsoft.extensions.logging, 5.0.0</span></li><li><span>microsoft.extensions.logging.abstractions, 5.0.0</span></li><li><span>microsoft.extensions.options, 5.0.0</span></li><li><span>microsoft.extensions.primitives, 5.0.0</span></li><li><span>microsoft.jsinterop, 5.0.8</span></li><li><span>microsoft.jsinterop.webassembly, 5.0.8</span></li><li><span>microsoft.visualstudio.debugger.contracts, 16.10.0-beta.21214.1</span></li><li><span>nuget.frameworks, 5.0.0</span></li><li><span>system.commandline, 2.0.0-beta1.21308.1</span></li><li><span>system.commandline.rendering, 0.3.0-alpha.20427.1</span></li><li><span>system.composition.attributedmodel, 1.0.31</span></li><li><span>system.composition.convention, 1.0.31</span></li><li><span>system.composition.hosting, 1.0.31</span></li><li><span>system.composition.runtime, 1.0.31</span></li><li><span>system.composition.typedparts, 1.0.31</span></li><li><span>system.diagnostics.diagnosticsource, 5.0.1</span></li><li><span>system.io.pipelines, 5.0.1</span></li><li><span>system.reactive, 5.0.0</span></li><li><span>system.text.encodings.web, 5.0.1</span></li><li><span>system.text.json, 5.0.2</span></li></ul></div><div></div></div>"
      ]
     },
     "metadata": {},
     "output_type": "display_data"
    },
    {
     "data": {
      "text/markdown": [
       "Loading extensions from `BlazorInteractive.dll`"
      ]
     },
     "metadata": {},
     "output_type": "display_data"
    },
    {
     "data": {
      "text/html": [
       "\r\n",
       "<details>\r\n",
       "    <summary>Compile and render Razor components (.razor) in .NET Interactive Notebooks.</summary>\r\n",
       "    <p>This extension adds a new kernel that can render Blazor markdown.</p>\r\n",
       "\r\n",
       "    <pre>\r\n",
       "        <code>\r\n",
       "#!blazor\r\n",
       "<h1>Counter</h1>\r\n",
       "\r\n",
       "<p>\r\n",
       "    Current count: @currentCount\r\n",
       "</p>\r\n",
       "\r\n",
       "@code {\r\n",
       "  int currentCount = 0;\r\n",
       "      }</code>\r\n",
       "    </pre>\r\n",
       "\r\n",
       "    <p>This extension also adds the compiled component as a type to the interactive workspace.</p>\r\n",
       "\r\n",
       "    <p>Options:</p>\r\n",
       "    <ul>\r\n",
       "    <li>-n, --name &nbsp;&nbsp;&nbsp;&nbsp;The Razor component's (.razor) type name. The default value is <code>__Main</code></li>\r\n",
       "    </ul>\r\n",
       "</details>"
      ]
     },
     "metadata": {},
     "output_type": "display_data"
    }
   ],
   "metadata": {
    "dotnet_interactive": {
     "language": "csharp"
    }
   }
  },
  {
   "cell_type": "code",
   "execution_count": null,
   "source": [
    "#!blazor\n",
    "<h1>Hello @name</h1>\n",
    "\n",
    "@code {\n",
    "    string name = \"Alice\";\n",
    "}"
   ],
   "outputs": [
    {
     "data": {
      "text/html": [
       "<div id=\"blazorExtensionb75701514b894c8db77817eb712435d8\"><h1>Hello Alice</h1></div>"
      ]
     },
     "metadata": {},
     "output_type": "display_data"
    }
   ],
   "metadata": {
    "dotnet_interactive": {
     "language": "csharp"
    }
   }
  },
  {
   "cell_type": "code",
   "execution_count": null,
   "source": [
    "#!blazor --name Counter\n",
    "<h1>Counter</h1>\n",
    "\n",
    "<p>\n",
    "    Current count: @currentCount\n",
    "</p>\n",
    "\n",
    "<button class=\"btn btn-primary\" @onclick=\"IncrementCount\">Click me</button>\n",
    "\n",
    "@code {\n",
    "  public int currentCount = 0;\n",
    "\n",
    "  void IncrementCount()\n",
    "  {\n",
    "    currentCount++;\n",
    "  }\n",
    "}"
   ],
   "outputs": [
    {
     "data": {
      "text/html": [
       "<div id=\"blazorExtensionfb6986b959c34e39be42fb446ea93bd4\"><h1>Counter</h1>\n",
       "\n",
       "<p>\n",
       "    Current count: 0</p>\n",
       "\n",
       "<button class=\"btn btn-primary\" blazor:onclick=\"1\">Click me</button></div>"
      ]
     },
     "metadata": {},
     "output_type": "display_data"
    }
   ],
   "metadata": {
    "dotnet_interactive": {
     "language": "csharp"
    }
   }
  },
  {
   "cell_type": "code",
   "execution_count": null,
   "source": [
    "var componentName = typeof(Counter).Name;\n",
    "componentName"
   ],
   "outputs": [
    {
     "data": {
      "text/plain": [
       "Counter"
      ]
     },
     "metadata": {},
     "output_type": "display_data"
    }
   ],
   "metadata": {
    "dotnet_interactive": {
     "language": "csharp"
    }
   }
  }
 ],
 "metadata": {
  "kernelspec": {
   "display_name": ".NET (C#)",
   "language": "C#",
   "name": ".net-csharp"
  },
  "language_info": {
   "file_extension": ".cs",
   "mimetype": "text/x-csharp",
   "name": "C#",
   "pygments_lexer": "csharp",
   "version": "9.0"
  }
 },
 "nbformat": 4,
 "nbformat_minor": 2
}